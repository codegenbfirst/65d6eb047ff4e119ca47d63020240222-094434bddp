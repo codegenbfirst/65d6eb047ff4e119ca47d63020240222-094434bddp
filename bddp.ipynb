{
 "cells": [
  {
   "cell_type": "markdown",
   "id": "d4fa7bee",
   "metadata": {},
   "source": [
    "***GENERATED CODE FOR bddp PIPELINE.***"
   ]
  },
  {
   "cell_type": "markdown",
   "id": "5baa41ac",
   "metadata": {},
   "source": [
    "***DON'T EDIT THIS CODE.***"
   ]
  },
  {
   "cell_type": "markdown",
   "id": "60ce2c74",
   "metadata": {},
   "source": [
    "***CONNECTOR FUNCTIONS TO READ DATA.***"
   ]
  },
  {
   "cell_type": "code",
   "execution_count": null,
   "id": "433a2099",
   "metadata": {},
   "outputs": [],
   "source": [
    "import os\n",
    "import datetime\n",
    "import logging\n",
    "import warnings\n",
    "warnings.filterwarnings('ignore')\n",
    "logging.basicConfig(format='%(levelname)s:%(message)s', level=logging.INFO)\n",
    "\n",
    "\n",
    "class HDFSConnector:\n",
    "\n",
    "    def fetch(spark, config):\n",
    "        ################### INPUT HADOOP HOST PORT TO CONNECT WITH ###############################\n",
    "        hdfs_server = str(os.environ['HDFS_SERVER'])\n",
    "        hdfs_port = int(os.environ['HDFS_PORT'])\n",
    "        df = spark.read.options(header='true', inferschema='true').csv(\n",
    "            f\"hdfs://{hdfs_server}:{hdfs_port}{eval(config)['url']}\", header='true')\n",
    "        display(df.limit(2).toPandas())\n",
    "        return df\n",
    "\n",
    "    def put(df, spark, config):\n",
    "        return df.write.format('csv').options(header='true' if eval(config)[\"is_header\"] == \"Use Header Line\" else 'false',\n",
    "                                              delimiter=eval(config)[\"delimiter\"]).save((\"%s %s\") % (datetime.datetime.now().strftime(\"%Y-%m-%d %H.%M.%S\")+\"_\", eval(config)['url']))\n"
   ]
  },
  {
   "cell_type": "markdown",
   "id": "8c278607",
   "metadata": {},
   "source": [
    "***OPERATION FUNCTIONS***"
   ]
  },
  {
   "cell_type": "code",
   "execution_count": null,
   "id": "6ceefb5e",
   "metadata": {},
   "outputs": [],
   "source": [
    "import pyspark\n",
    "from dask.dataframe import from_pandas\n",
    "import json\n",
    "\n",
    "\n",
    "def aggregation(df, functionsData, applyOn, additionalFunctions):\n",
    "    dfcp = df\n",
    "    maincolumn = functionsData[0]['aggregateOn'][0]['columnName']\n",
    "    mainagg = functionsData[0]['aggregateFunction']\n",
    "    addfuncs = additionalFunctions\n",
    "    for cols in dfcp.columns:\n",
    "        if cols not in addfuncs:\n",
    "            if cols != maincolumn:\n",
    "                addfuncs[cols] = mainagg\n",
    "    dfcp1 = dfcp.groupby(maincolumn).agg(addfuncs).drop(\n",
    "        maincolumn, axis=1).reset_index(drop=False)\n",
    "    return dfcp1\n",
    "\n",
    "\n",
    "def runDataCleansing(sparkDf, spark, config):\n",
    "    configObj = json.loads(config)\n",
    "    sparkDf.persist(pyspark.StorageLevel.MEMORY_AND_DISK)\n",
    "    df = from_pandas((sparkDf.toPandas()), npartitions=5)\n",
    "    functionList = configObj['functionsApplied']\n",
    "    Data_Cleansing_Methods = {\"replaceBy\": replaceValues,\n",
    "                              \"formula\": calculateFormula,\n",
    "                              \"aggregate\": aggregation,\n",
    "                              \"converttostringtype\": changeToString,\n",
    "                              \"editname\": renameColumns}\n",
    "    for function in functionList:\n",
    "        function['functionName']\n",
    "        df = Data_Cleansing_Methods[function['functionName']](df, function['functionsData'],\n",
    "                                                              function['applyOn'])\n",
    "    sparkDf = spark.createDataFrame(df.compute())\n",
    "\n",
    "    display(sparkDf.limit(2).toPandas())\n",
    "    return sparkDf\n"
   ]
  },
  {
   "cell_type": "markdown",
   "id": "9c358b5b",
   "metadata": {},
   "source": [
    "***CONNECTOR FUNCTIONS TO WRITE DATA.***"
   ]
  },
  {
   "cell_type": "code",
   "execution_count": null,
   "id": "9af92f8f",
   "metadata": {},
   "outputs": [],
   "source": [
    "import datetime\n",
    "import requests\n",
    "import datetime\n",
    "import logging\n",
    "import warnings\n",
    "warnings.filterwarnings('ignore')\n",
    "logging.basicConfig(format='%(levelname)s:%(message)s', level=logging.INFO)\n",
    "\n",
    "\n",
    "class NumtraConnector:\n",
    "\n",
    "    def put(inStages, inStagesData, stageId, spark, config):\n",
    "        path = eval(config)['server_url']\n",
    "        baseType = eval(config)['baseType']\n",
    "        results_url = eval(config)['results_url']\n",
    "        server = eval(config)['server']\n",
    "        originalfile = eval(config)['orignalKey']\n",
    "        eval(config)['pathOnly']\n",
    "        filename = eval(config)['filename']\n",
    "        eval(config)['ser']\n",
    "        eval(config)['user']\n",
    "        eval(config)['password']\n",
    "        eval(config)['authSource']\n",
    "        eval(config)['user_id']\n",
    "        eval(config)['parent_id']\n",
    "        eval(config)['project_id']\n",
    "        time = str(int(datetime.datetime.now().timestamp()))\n",
    "\n",
    "        inStagesData[inStages[0]]\n",
    "\n",
    "        print(path)\n",
    "        print(baseType)\n",
    "        print(results_url)\n",
    "        print(server)\n",
    "        print(originalfile)\n",
    "        print(filename)\n",
    "\n",
    "        args = {\n",
    "            'url': path,\n",
    "            'baseType': baseType,\n",
    "            'originalfile': originalfile,\n",
    "            'filename': time + filename\n",
    "        }\n",
    "\n",
    "        response = requests.post(results_url, args)\n",
    "        return response\n"
   ]
  },
  {
   "cell_type": "markdown",
   "id": "dd995889",
   "metadata": {},
   "source": [
    "***READING DATAFRAME***"
   ]
  },
  {
   "cell_type": "code",
   "execution_count": null,
   "id": "cec8471f",
   "metadata": {},
   "outputs": [],
   "source": [
    "############## CREATE SPARK SESSION ############################ ENTER YOUR SPARK MASTER IP AND PORT TO CONNECT TO SERVER ################\n",
    "from pyspark.sql import SparkSession\n",
    "spark = SparkSession.builder.master('local[1]').getOrCreate()\n",
    "#%run bddpHooks.ipynb\n",
    "try:\n",
    "\t#sourcePreExecutionHook()\n",
    "\n",
    "\tbankdepoithitory = HDFSConnector.fetch(spark, \"{'url': '/FileStore/platform/testdata/1708583669097_BankDepositHistory.csv', 'filename': 'BankDepositHistory.csv', 'delimiter': ',', 'file_type': 'Delimeted', 'dbfs_token': '', 'dbfs_domain': '', 'FilePath': '/DataPipelineTest/AggDP/BankDepositHistory.csv', 'viewFileName': 'BankDepositHistory.csv', 'is_header': 'Use Header Line', 'baseType': 'hdfs', 'server_url': '/nexusMax/NexusMaxPlatform/uploads/platform/', 'results_url': 'http://dnm.bfirst.ai:44040/api/read/hdfs'}\")\n",
    "\n",
    "except Exception as ex: \n",
    "\tlogging.error(ex)\n",
    "#spark.stop()\n"
   ]
  },
  {
   "cell_type": "markdown",
   "id": "7e6de2aa",
   "metadata": {},
   "source": [
    "***PERFORMING OPERATIONS***"
   ]
  },
  {
   "cell_type": "code",
   "execution_count": null,
   "id": "3199030b",
   "metadata": {},
   "outputs": [],
   "source": [
    "#%run bddpHooks.ipynb\n",
    "try:\n",
    "\t#operationPreExecutionHook()\n",
    "\n",
    "datapreparation = runDataCleansing(bankdepoithitory,spark,json.dumps( {\"url\": \"/FileStore/platform/testdata/1708583669097_BankDepositHistory.csv\", \"source_attributes\": {}, \"DataPrepFile\": \"/FileStore/platform/testdata/1708583669097_BankDepositHistory.csv\", \"data_source\": \"platfiles\", \"startListenerOnly\": 1, \"dateColumnNames\": [], \"FilePath\": \"/FileStore/platform/extra/65d6eb1e7ff4e119ca47d6461708594996/0part.csv\", \"requestRatio\": 22.0, \"totalRows\": 11138, \"BasicStats\": {\"missingValues\": 0.0, \"numberOfColumns\": 17, \"numberOfRows\": 12, \"duplicateRowCount\": 0, \"stats\": [{\"column\": \"job\", \"alias\": \"job\", \"generated\": 0, \"type\": \"String\", \"max\": \"unknown\", \"min\": \"admin.\", \"mean\": \"\", \"missing\": 0.0, \"stddev\": \"\", \"outliers\": [], \"validation\": []}, {\"column\": \"age\", \"alias\": \"age\", \"generated\": 0, \"type\": \"numeric\", \"max\": 1, \"min\": 1, \"mean\": 1.0, \"missing\": 0.0, \"stddev\": 0.0, \"outliers\": [], \"validation\": []}, {\"column\": \"marital\", \"alias\": \"marital\", \"generated\": 0, \"type\": \"String\", \"max\": \"single\", \"min\": \"single\", \"mean\": \"\", \"missing\": 0.0, \"stddev\": \"\", \"outliers\": [], \"validation\": []}, {\"column\": \"education\", \"alias\": \"education\", \"generated\": 0, \"type\": \"String\", \"max\": \"primary\", \"min\": \"primary\", \"mean\": \"\", \"missing\": 0.0, \"stddev\": \"\", \"outliers\": [], \"validation\": []}, {\"column\": \"default\", \"alias\": \"default\", \"generated\": 0, \"type\": \"String\", \"max\": \"yes\", \"min\": \"yes\", \"mean\": \"\", \"missing\": 0.0, \"stddev\": \"\", \"outliers\": [], \"validation\": []}, {\"column\": \"balance\", \"alias\": \"balance\", \"generated\": 0, \"type\": \"numeric\", \"max\": 81204, \"min\": 16397, \"mean\": 41692.833333333336, \"missing\": 0.0, \"stddev\": 20613.08, \"outliers\": [], \"validation\": []}, {\"column\": \"housing\", \"alias\": \"housing\", \"generated\": 0, \"type\": \"String\", \"max\": \"yes\", \"min\": \"yes\", \"mean\": \"\", \"missing\": 0.0, \"stddev\": \"\", \"outliers\": [], \"validation\": []}, {\"column\": \"loan\", \"alias\": \"loan\", \"generated\": 0, \"type\": \"String\", \"max\": \"yes\", \"min\": \"yes\", \"mean\": \"\", \"missing\": 0.0, \"stddev\": \"\", \"outliers\": [], \"validation\": []}, {\"column\": \"contact\", \"alias\": \"contact\", \"generated\": 0, \"type\": \"String\", \"max\": \"unknown\", \"min\": \"unknown\", \"mean\": \"\", \"missing\": 0.0, \"stddev\": \"\", \"outliers\": [], \"validation\": []}, {\"column\": \"day\", \"alias\": \"day\", \"generated\": 0, \"type\": \"numeric\", \"max\": 31, \"min\": 30, \"mean\": 30.916666666666668, \"missing\": 0.0, \"stddev\": 0.29, \"outliers\": [30], \"validation\": []}, {\"column\": \"month\", \"alias\": \"month\", \"generated\": 0, \"type\": \"String\", \"max\": \"sep\", \"min\": \"sep\", \"mean\": \"\", \"missing\": 0.0, \"stddev\": \"\", \"outliers\": [], \"validation\": []}, {\"column\": \"duration\", \"alias\": \"duration\", \"generated\": 0, \"type\": \"numeric\", \"max\": 3881, \"min\": 1440, \"mean\": 2672.5833333333335, \"missing\": 0.0, \"stddev\": 722.65, \"outliers\": [], \"validation\": []}, {\"column\": \"campaign\", \"alias\": \"campaign\", \"generated\": 0, \"type\": \"numeric\", \"max\": 63, \"min\": 12, \"mean\": 30.166666666666668, \"missing\": 0.0, \"stddev\": 13.42, \"outliers\": [43, 63, 12], \"validation\": []}, {\"column\": \"pdays\", \"alias\": \"pdays\", \"generated\": 0, \"type\": \"numeric\", \"max\": 854, \"min\": 414, \"mean\": 717.5, \"missing\": 0.0, \"stddev\": 147.53, \"outliers\": [414], \"validation\": []}, {\"column\": \"previous\", \"alias\": \"previous\", \"generated\": 0, \"type\": \"numeric\", \"max\": 58, \"min\": 7, \"mean\": 27.583333333333332, \"missing\": 0.0, \"stddev\": 16.28, \"outliers\": [58, 55], \"validation\": []}, {\"column\": \"poutcome\", \"alias\": \"poutcome\", \"generated\": 0, \"type\": \"String\", \"max\": \"unknown\", \"min\": \"unknown\", \"mean\": \"\", \"missing\": 0.0, \"stddev\": \"\", \"outliers\": [], \"validation\": []}, {\"column\": \"deposit\", \"alias\": \"deposit\", \"generated\": 0, \"type\": \"String\", \"max\": \"yes\", \"min\": \"yes\", \"mean\": \"\", \"missing\": 0.0, \"stddev\": \"\", \"outliers\": [], \"validation\": []}]}, \"predictionPowerScore\": [{\"age\": 1.0, \"balance\": 0.0, \"campaign\": 0.0, \"contact\": 0.0, \"day\": 0.0, \"default\": 0.0, \"deposit\": 0.0, \"duration\": 0.0, \"education\": 0.0, \"housing\": 0.0, \"job\": 0.0, \"loan\": 0.0, \"marital\": 0.0, \"month\": 0.0, \"pdays\": 0.0, \"poutcome\": 0.0, \"previous\": 0.0}, {\"age\": 0.0, \"balance\": 1.0, \"campaign\": 0.0, \"contact\": 0.0, \"day\": 0.0, \"default\": 0.0, \"deposit\": 0.0, \"duration\": 0.0, \"education\": 0.0, \"housing\": 0.0, \"job\": 0.0, \"loan\": 0.0, \"marital\": 0.0, \"month\": 0.0, \"pdays\": 0.0, \"poutcome\": 0.0, \"previous\": 0.0}, {\"age\": 0.0021367521, \"balance\": 0.0192307692, \"campaign\": 1.0, \"contact\": 0.0021367521, \"day\": 0.0, \"default\": 0.0021367521, \"deposit\": 0.0021367521, \"duration\": 0.0576923077, \"education\": 0.0021367521, \"housing\": 0.0021367521, \"job\": 0.0, \"loan\": 0.0021367521, \"marital\": 0.0021367521, \"month\": 0.0021367521, \"pdays\": 0.0, \"poutcome\": 0.0021367521, \"previous\": 0.0}, {\"age\": 0.0, \"balance\": 0.0, \"campaign\": 0.0, \"contact\": 1.0, \"day\": 0.0, \"default\": 0.0, \"deposit\": 0.0, \"duration\": 0.0, \"education\": 0.0, \"housing\": 0.0, \"job\": 0.0, \"loan\": 0.0, \"marital\": 0.0, \"month\": 0.0, \"pdays\": 0.0, \"poutcome\": 0.0, \"previous\": 0.0}, {\"age\": 0.0, \"balance\": 0.0, \"campaign\": 0.0, \"contact\": 0.0, \"day\": 1.0, \"default\": 0.0, \"deposit\": 0.0, \"duration\": 0.0, \"education\": 0.0, \"housing\": 0.0, \"job\": 0.0, \"loan\": 0.0, \"marital\": 0.0, \"month\": 0.0, \"pdays\": 0.0, \"poutcome\": 0.0, \"previous\": 0.0}, {\"age\": 0.0, \"balance\": 0.0, \"campaign\": 0.0, \"contact\": 0.0, \"day\": 0.0, \"default\": 1.0, \"deposit\": 0.0, \"duration\": 0.0, \"education\": 0.0, \"housing\": 0.0, \"job\": 0.0, \"loan\": 0.0, \"marital\": 0.0, \"month\": 0.0, \"pdays\": 0.0, \"poutcome\": 0.0, \"previous\": 0.0}, {\"age\": 0.0, \"balance\": 0.0, \"campaign\": 0.0, \"contact\": 0.0, \"day\": 0.0, \"default\": 0.0, \"deposit\": 1.0, \"duration\": 0.0, \"education\": 0.0, \"housing\": 0.0, \"job\": 0.0, \"loan\": 0.0, \"marital\": 0.0, \"month\": 0.0, \"pdays\": 0.0, \"poutcome\": 0.0, \"previous\": 0.0}, {\"age\": 0.0, \"balance\": 0.0402704733, \"campaign\": 0.1188580015, \"contact\": 0.0, \"day\": 0.0, \"default\": 0.0, \"deposit\": 0.0, \"duration\": 1.0, \"education\": 0.0, \"housing\": 0.0, \"job\": 0.0, \"loan\": 0.0, \"marital\": 0.0, \"month\": 0.0, \"pdays\": 0.0, \"poutcome\": 0.0, \"previous\": 0.0}, {\"age\": 0.0, \"balance\": 0.0, \"campaign\": 0.0, \"contact\": 0.0, \"day\": 0.0, \"default\": 0.0, \"deposit\": 0.0, \"duration\": 0.0, \"education\": 1.0, \"housing\": 0.0, \"job\": 0.0, \"loan\": 0.0, \"marital\": 0.0, \"month\": 0.0, \"pdays\": 0.0, \"poutcome\": 0.0, \"previous\": 0.0}, {\"age\": 0.0, \"balance\": 0.0, \"campaign\": 0.0, \"contact\": 0.0, \"day\": 0.0, \"default\": 0.0, \"deposit\": 0.0, \"duration\": 0.0, \"education\": 0.0, \"housing\": 1.0, \"job\": 0.0, \"loan\": 0.0, \"marital\": 0.0, \"month\": 0.0, \"pdays\": 0.0, \"poutcome\": 0.0, \"previous\": 0.0}, {\"age\": 0.0, \"balance\": 0.0, \"campaign\": 0.0, \"contact\": 0.0, \"day\": 0.0, \"default\": 0.0, \"deposit\": 0.0, \"duration\": 0.0, \"education\": 0.0, \"housing\": 0.0, \"job\": 1.0, \"loan\": 0.0, \"marital\": 0.0, \"month\": 0.0, \"pdays\": 0.0, \"poutcome\": 0.0, \"previous\": 0.0}, {\"age\": 0.0, \"balance\": 0.0, \"campaign\": 0.0, \"contact\": 0.0, \"day\": 0.0, \"default\": 0.0, \"deposit\": 0.0, \"duration\": 0.0, \"education\": 0.0, \"housing\": 0.0, \"job\": 0.0, \"loan\": 1.0, \"marital\": 0.0, \"month\": 0.0, \"pdays\": 0.0, \"poutcome\": 0.0, \"previous\": 0.0}, {\"age\": 0.0, \"balance\": 0.0, \"campaign\": 0.0, \"contact\": 0.0, \"day\": 0.0, \"default\": 0.0, \"deposit\": 0.0, \"duration\": 0.0, \"education\": 0.0, \"housing\": 0.0, \"job\": 0.0, \"loan\": 0.0, \"marital\": 1.0, \"month\": 0.0, \"pdays\": 0.0, \"poutcome\": 0.0, \"previous\": 0.0}, {\"age\": 0.0, \"balance\": 0.0, \"campaign\": 0.0, \"contact\": 0.0, \"day\": 0.0, \"default\": 0.0, \"deposit\": 0.0, \"duration\": 0.0, \"education\": 0.0, \"housing\": 0.0, \"job\": 0.0, \"loan\": 0.0, \"marital\": 0.0, \"month\": 1.0, \"pdays\": 0.0, \"poutcome\": 0.0, \"previous\": 0.0}, {\"age\": 0.0, \"balance\": 0.0, \"campaign\": 0.0, \"contact\": 0.0, \"day\": 0.0, \"default\": 0.0, \"deposit\": 0.0, \"duration\": 0.0, \"education\": 0.0, \"housing\": 0.0, \"job\": 0.0, \"loan\": 0.0, \"marital\": 0.0, \"month\": 0.0, \"pdays\": 1.0, \"poutcome\": 0.0, \"previous\": 0.0}, {\"age\": 0.0, \"balance\": 0.0, \"campaign\": 0.0, \"contact\": 0.0, \"day\": 0.0, \"default\": 0.0, \"deposit\": 0.0, \"duration\": 0.0, \"education\": 0.0, \"housing\": 0.0, \"job\": 0.0, \"loan\": 0.0, \"marital\": 0.0, \"month\": 0.0, \"pdays\": 0.0, \"poutcome\": 1.0, \"previous\": 0.0}, {\"age\": 0.0, \"balance\": 0.0, \"campaign\": 0.0, \"contact\": 0.0, \"day\": 0.0, \"default\": 0.0, \"deposit\": 0.0, \"duration\": 0.0, \"education\": 0.0, \"housing\": 0.0, \"job\": 0.0, \"loan\": 0.0, \"marital\": 0.0, \"month\": 0.0, \"pdays\": 0.0, \"poutcome\": 0.0, \"previous\": 1.0}], \"HasBasicStats\": 1, \"functionsApplied\": [{\"functionName\": \"aggregate\", \"applyOn\": [{\"columnName\": \"job\", \"type\": \"String\", \"min\": \"admin.\", \"max\": \"unknown\", \"mean\": \"-\"}], \"functionsData\": [{\"aggregateFunction\": \"max\", \"aggregateOn\": [{\"columnName\": \"job\", \"type\": \"String\", \"min\": \"admin.\", \"max\": \"unknown\", \"mean\": \"-\"}], \"groupOn\": [{\"columnName\": \"job\", \"type\": \"String\", \"min\": \"admin.\", \"max\": \"unknown\", \"mean\": \"-\"}]}], \"additionalFunctions\": {\"age\": \"count\", \"marital\": \"max\", \"education\": \"min\", \"default\": \"max\", \"balance\": \"max\", \"housing\": \"max\", \"loan\": \"max\", \"contact\": \"max\", \"day\": \"max\", \"month\": \"max\", \"duration\": \"max\", \"campaign\": \"max\", \"pdays\": \"max\", \"previous\": \"max\", \"poutcome\": \"max\", \"deposit\": \"max\"}}, {\"functionName\": \"aggregate\", \"applyOn\": [{\"columnName\": \"job\", \"type\": \"String\", \"min\": \"admin.\", \"max\": \"unknown\", \"mean\": \"-\"}], \"functionsData\": [{\"aggregateFunction\": \"max\", \"aggregateOn\": [{\"columnName\": \"job\", \"type\": \"String\", \"min\": \"admin.\", \"max\": \"unknown\", \"mean\": \"-\"}], \"groupOn\": [{\"columnName\": \"job\", \"type\": \"String\", \"min\": \"admin.\", \"max\": \"unknown\", \"mean\": \"-\"}]}], \"additionalFunctions\": {\"age\": \"count\", \"marital\": \"max\", \"education\": \"min\", \"default\": \"max\", \"balance\": \"max\", \"housing\": \"max\", \"loan\": \"max\", \"contact\": \"max\", \"day\": \"max\", \"month\": \"max\", \"duration\": \"max\", \"campaign\": \"max\", \"pdays\": \"max\", \"previous\": \"max\", \"poutcome\": \"max\", \"deposit\": \"max\"}}], \"functionChanges\": [{\"columnName\": \"job\", \"functionName\": \"Aggregate\", \"Type\": \"String\", \"Parameters\": [{\"aggregateFunction\": \"max\", \"aggregateOn\": [{\"columnName\": \"job\", \"type\": \"String\", \"min\": \"admin.\", \"max\": \"unknown\", \"mean\": \"-\"}], \"groupOn\": [{\"columnName\": \"job\", \"type\": \"String\", \"min\": \"admin.\", \"max\": \"unknown\", \"mean\": \"-\"}]}]}, {\"columnName\": \"job\", \"functionName\": \"Aggregate\", \"Type\": \"String\", \"Parameters\": [{\"aggregateFunction\": \"max\", \"aggregateOn\": [{\"columnName\": \"job\", \"type\": \"String\", \"min\": \"admin.\", \"max\": \"unknown\", \"mean\": \"-\"}], \"groupOn\": [{\"columnName\": \"job\", \"type\": \"String\", \"min\": \"admin.\", \"max\": \"unknown\", \"mean\": \"-\"}]}]}], \"fileheader\": [{\"field\": \"job\", \"alias\": \"job\", \"generated\": 0, \"position\": 1, \"type\": \"String\"}, {\"field\": \"age\", \"alias\": \"age\", \"generated\": 0, \"position\": 2, \"type\": \"numeric\"}, {\"field\": \"marital\", \"alias\": \"marital\", \"generated\": 0, \"position\": 3, \"type\": \"String\"}, {\"field\": \"education\", \"alias\": \"education\", \"generated\": 0, \"position\": 4, \"type\": \"String\"}, {\"field\": \"default\", \"alias\": \"default\", \"generated\": 0, \"position\": 5, \"type\": \"String\"}, {\"field\": \"balance\", \"alias\": \"balance\", \"generated\": 0, \"position\": 6, \"type\": \"numeric\"}, {\"field\": \"housing\", \"alias\": \"housing\", \"generated\": 0, \"position\": 7, \"type\": \"String\"}, {\"field\": \"loan\", \"alias\": \"loan\", \"generated\": 0, \"position\": 8, \"type\": \"String\"}, {\"field\": \"contact\", \"alias\": \"contact\", \"generated\": 0, \"position\": 9, \"type\": \"String\"}, {\"field\": \"day\", \"alias\": \"day\", \"generated\": 0, \"position\": 10, \"type\": \"numeric\"}, {\"field\": \"month\", \"alias\": \"month\", \"generated\": 0, \"position\": 11, \"type\": \"String\"}, {\"field\": \"duration\", \"alias\": \"duration\", \"generated\": 0, \"position\": 12, \"type\": \"numeric\"}, {\"field\": \"campaign\", \"alias\": \"campaign\", \"generated\": 0, \"position\": 13, \"type\": \"numeric\"}, {\"field\": \"pdays\", \"alias\": \"pdays\", \"generated\": 0, \"position\": 14, \"type\": \"numeric\"}, {\"field\": \"previous\", \"alias\": \"previous\", \"generated\": 0, \"position\": 15, \"type\": \"numeric\"}, {\"field\": \"poutcome\", \"alias\": \"poutcome\", \"generated\": 0, \"position\": 16, \"type\": \"String\"}, {\"field\": \"deposit\", \"alias\": \"deposit\", \"generated\": 0, \"position\": 17, \"type\": \"String\"}]}))\n",
    "\t#operationPostExecutionHook(datapreparation)\n",
    "\n",
    "except Exception as ex: \n",
    "\tlogging.error(ex)\n"
   ]
  },
  {
   "cell_type": "markdown",
   "id": "84dbcb33",
   "metadata": {},
   "source": [
    "***WRITING DATAFRAME***"
   ]
  },
  {
   "cell_type": "code",
   "execution_count": null,
   "id": "a1a17f0a",
   "metadata": {},
   "outputs": [],
   "source": [
    "#%run bddpHooks.ipynb\n",
    "try:\n",
    "\t#sinkPreExecutionHook()\n",
    "\n",
    "\taggdpoutput = NumtraConnector.fetch(spark, \"{'samplefile': '/FileStore/platform/sampleData/65d6eb1b7ff4e119ca47d642/part-00000-0c2c2a57-7047-4dcb-868e-6fe0c1fd87dd-c000.csv', 'samplecount': 1116, 'originalcount': 11138, 'orignalKey': '/FileStore/platform/testdata/1708583669097_BankDepositHistory.csv', 'pathOnly': '/DataPipelineTest/AggDP', 'project_id': '65d6eac97ff4e119ca47d61d', 'parent_id': '65d6eac97ff4e119ca47d61d', 'original_schema': [{'checked': True, 'inherited': True, 'is_categorical': False, 'bad_values': '', 'nullable': 'true', 'field': 'job', 'alias': 'job', 'type': 'String', 'position': '0'}, {'checked': True, 'inherited': True, 'is_categorical': False, 'bad_values': '', 'nullable': 'true', 'field': 'age', 'alias': 'age', 'type': 'numeric', 'position': '1'}, {'checked': True, 'inherited': True, 'is_categorical': False, 'bad_values': '', 'nullable': 'true', 'field': 'marital', 'alias': 'marital', 'type': 'String', 'position': '2'}, {'checked': True, 'inherited': True, 'is_categorical': False, 'bad_values': '', 'nullable': 'true', 'field': 'education', 'alias': 'education', 'type': 'String', 'position': '3'}, {'checked': True, 'inherited': True, 'is_categorical': False, 'bad_values': '', 'nullable': 'true', 'field': 'default', 'alias': 'default', 'type': 'String', 'position': '4'}, {'checked': True, 'inherited': True, 'is_categorical': False, 'bad_values': '', 'nullable': 'true', 'field': 'balance', 'alias': 'balance', 'type': 'numeric', 'position': '5'}, {'checked': True, 'inherited': True, 'is_categorical': False, 'bad_values': '', 'nullable': 'true', 'field': 'housing', 'alias': 'housing', 'type': 'String', 'position': '6'}, {'checked': True, 'inherited': True, 'is_categorical': False, 'bad_values': '', 'nullable': 'true', 'field': 'loan', 'alias': 'loan', 'type': 'String', 'position': '7'}, {'checked': True, 'inherited': True, 'is_categorical': False, 'bad_values': '', 'nullable': 'true', 'field': 'contact', 'alias': 'contact', 'type': 'String', 'position': '8'}, {'checked': True, 'inherited': True, 'is_categorical': False, 'bad_values': '', 'nullable': 'true', 'field': 'day', 'alias': 'day', 'type': 'numeric', 'position': '9'}, {'checked': True, 'inherited': True, 'is_categorical': False, 'bad_values': '', 'nullable': 'true', 'field': 'month', 'alias': 'month', 'type': 'String', 'position': '10'}, {'checked': True, 'inherited': True, 'is_categorical': False, 'bad_values': '', 'nullable': 'true', 'field': 'duration', 'alias': 'duration', 'type': 'numeric', 'position': '11'}, {'checked': True, 'inherited': True, 'is_categorical': False, 'bad_values': '', 'nullable': 'true', 'field': 'campaign', 'alias': 'campaign', 'type': 'numeric', 'position': '12'}, {'checked': True, 'inherited': True, 'is_categorical': False, 'bad_values': '', 'nullable': 'true', 'field': 'pdays', 'alias': 'pdays', 'type': 'numeric', 'position': '13'}, {'checked': True, 'inherited': True, 'is_categorical': False, 'bad_values': '', 'nullable': 'true', 'field': 'previous', 'alias': 'previous', 'type': 'numeric', 'position': '14'}, {'checked': True, 'inherited': True, 'is_categorical': False, 'bad_values': '', 'nullable': 'true', 'field': 'poutcome', 'alias': 'poutcome', 'type': 'String', 'position': '15'}, {'checked': True, 'inherited': True, 'is_categorical': False, 'bad_values': '', 'nullable': 'true', 'field': 'deposit', 'alias': 'deposit', 'type': 'String', 'position': '16'}], 'actual_schema': [{'checked': True, 'inherited': True, 'is_categorical': False, 'bad_values': '', 'nullable': 'true', 'field': 'age', 'alias': 'age', 'type': 'numeric', 'position': '0'}, {'checked': True, 'inherited': True, 'is_categorical': False, 'bad_values': '', 'nullable': 'true', 'field': 'job', 'alias': 'job', 'type': 'String', 'position': '1'}, {'checked': True, 'inherited': True, 'is_categorical': False, 'bad_values': '', 'nullable': 'true', 'field': 'marital', 'alias': 'marital', 'type': 'String', 'position': '2'}, {'checked': True, 'inherited': True, 'is_categorical': False, 'bad_values': '', 'nullable': 'true', 'field': 'education', 'alias': 'education', 'type': 'String', 'position': '3'}, {'checked': True, 'inherited': True, 'is_categorical': False, 'bad_values': '', 'nullable': 'true', 'field': 'default', 'alias': 'default', 'type': 'String', 'position': '4'}, {'checked': True, 'inherited': True, 'is_categorical': False, 'bad_values': '', 'nullable': 'true', 'field': 'balance', 'alias': 'balance', 'type': 'numeric', 'position': '5'}, {'checked': True, 'inherited': True, 'is_categorical': False, 'bad_values': '', 'nullable': 'true', 'field': 'housing', 'alias': 'housing', 'type': 'String', 'position': '6'}, {'checked': True, 'inherited': True, 'is_categorical': False, 'bad_values': '', 'nullable': 'true', 'field': 'loan', 'alias': 'loan', 'type': 'String', 'position': '7'}, {'checked': True, 'inherited': True, 'is_categorical': False, 'bad_values': '', 'nullable': 'true', 'field': 'contact', 'alias': 'contact', 'type': 'String', 'position': '8'}, {'checked': True, 'inherited': True, 'is_categorical': False, 'bad_values': '', 'nullable': 'true', 'field': 'day', 'alias': 'day', 'type': 'numeric', 'position': '9'}, {'checked': True, 'inherited': True, 'is_categorical': False, 'bad_values': '', 'nullable': 'true', 'field': 'month', 'alias': 'month', 'type': 'String', 'position': '10'}, {'checked': True, 'inherited': True, 'is_categorical': False, 'bad_values': '', 'nullable': 'true', 'field': 'duration', 'alias': 'duration', 'type': 'numeric', 'position': '11'}, {'checked': True, 'inherited': True, 'is_categorical': False, 'bad_values': '', 'nullable': 'true', 'field': 'campaign', 'alias': 'campaign', 'type': 'numeric', 'position': '12'}, {'checked': True, 'inherited': True, 'is_categorical': False, 'bad_values': '', 'nullable': 'true', 'field': 'pdays', 'alias': 'pdays', 'type': 'numeric', 'position': '13'}, {'checked': True, 'inherited': True, 'is_categorical': False, 'bad_values': '', 'nullable': 'true', 'field': 'previous', 'alias': 'previous', 'type': 'numeric', 'position': '14'}, {'checked': True, 'inherited': True, 'is_categorical': False, 'bad_values': '', 'nullable': 'true', 'field': 'poutcome', 'alias': 'poutcome', 'type': 'String', 'position': '15'}, {'checked': True, 'inherited': True, 'is_categorical': False, 'bad_values': '', 'nullable': 'true', 'field': 'deposit', 'alias': 'deposit', 'type': 'String', 'position': '16'}], 'server': 'https://dnm.bfirst.ai:443', 'server_url': '/nexusMax/NexusMaxPlatform/uploads/platform/', 'delimiter': ',', 'file_type': 'Delimeted', 'filename': 'BDAgg.csv', 'token': '', 'domain': '', 'is_header': 'Use Header Line', 'url': '/FileStore/platform/uploadedSourceFiles/part-00000-6b0b2acd-3221-4ce1-85bf-1c127b403ad6-c000.csv', 'results_url': 'http://dnm.bfirst.ai:44040/api/read/hdfs'}\")\n",
    "\n",
    "except Exception as ex: \n",
    "\tlogging.error(ex)\n"
   ]
  }
 ],
 "metadata": {},
 "nbformat": 4,
 "nbformat_minor": 5
}
